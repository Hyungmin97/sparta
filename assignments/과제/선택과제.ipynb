{
 "cells": [
  {
   "cell_type": "code",
   "execution_count": 23,
   "id": "dab99629-94b6-43d7-a3cd-3acf74b4cfe6",
   "metadata": {},
   "outputs": [],
   "source": [
    "#1. 숫자 맞추기 게임 (선택)\n",
    "\n",
    "#1. 플레이어가 입력한 숫자가 범위를 벗어날 경우, 적절한 안내 메시지를 출력하여 유효한 범위 내의 숫자를 입력하도록 유도하세요.\n",
    "#2. 플레이어가 게임을 반복하고 싶을 경우, 게임 재시작 여부를 묻고 그에 따라 게임을 초기화하거나 종료하는 기능을 추가하세요."
   ]
  },
  {
   "cell_type": "code",
   "execution_count": 32,
   "id": "e8d5b15f-9500-4a05-8188-9f997dea7811",
   "metadata": {},
   "outputs": [],
   "source": [
    "#랜덤 라이브러리\n",
    "import random"
   ]
  },
  {
   "cell_type": "code",
   "execution_count": 72,
   "id": "c0dcf7e1-53d1-4d0c-928d-ea566b84af99",
   "metadata": {},
   "outputs": [
    {
     "name": "stdout",
     "output_type": "stream",
     "text": [
      "1과 10 사이의 숫자를 하나 정했습니다.\n"
     ]
    },
    {
     "name": "stdin",
     "output_type": "stream",
     "text": [
      "이 숫자는 무엇일까요?\n",
      "예상 숫자:  1\n"
     ]
    },
    {
     "name": "stdout",
     "output_type": "stream",
     "text": [
      "너무 작습니다. 다시 입력하세요.\n"
     ]
    },
    {
     "name": "stdin",
     "output_type": "stream",
     "text": [
      "이 숫자는 무엇일까요?\n",
      "예상 숫자:  2\n"
     ]
    },
    {
     "name": "stdout",
     "output_type": "stream",
     "text": [
      "너무 작습니다. 다시 입력하세요.\n"
     ]
    },
    {
     "name": "stdin",
     "output_type": "stream",
     "text": [
      "이 숫자는 무엇일까요?\n",
      "예상 숫자:  4\n"
     ]
    },
    {
     "name": "stdout",
     "output_type": "stream",
     "text": [
      "너무 작습니다. 다시 입력하세요.\n"
     ]
    },
    {
     "name": "stdin",
     "output_type": "stream",
     "text": [
      "이 숫자는 무엇일까요?\n",
      "예상 숫자:  3\n"
     ]
    },
    {
     "name": "stdout",
     "output_type": "stream",
     "text": [
      "너무 작습니다. 다시 입력하세요.\n"
     ]
    },
    {
     "name": "stdin",
     "output_type": "stream",
     "text": [
      "이 숫자는 무엇일까요?\n",
      "예상 숫자:  5\n"
     ]
    },
    {
     "name": "stdout",
     "output_type": "stream",
     "text": [
      "너무 작습니다. 다시 입력하세요.\n"
     ]
    },
    {
     "name": "stdin",
     "output_type": "stream",
     "text": [
      "이 숫자는 무엇일까요?\n",
      "예상 숫자:   6\n"
     ]
    },
    {
     "name": "stdout",
     "output_type": "stream",
     "text": [
      "너무 작습니다. 다시 입력하세요.\n"
     ]
    },
    {
     "name": "stdin",
     "output_type": "stream",
     "text": [
      "이 숫자는 무엇일까요?\n",
      "예상 숫자:  6\n"
     ]
    },
    {
     "name": "stdout",
     "output_type": "stream",
     "text": [
      "너무 작습니다. 다시 입력하세요.\n"
     ]
    },
    {
     "name": "stdin",
     "output_type": "stream",
     "text": [
      "이 숫자는 무엇일까요?\n",
      "예상 숫자:  6\n"
     ]
    },
    {
     "name": "stdout",
     "output_type": "stream",
     "text": [
      "너무 작습니다. 다시 입력하세요.\n"
     ]
    },
    {
     "name": "stdin",
     "output_type": "stream",
     "text": [
      "이 숫자는 무엇일까요?\n",
      "예상 숫자:  7\n"
     ]
    },
    {
     "name": "stdout",
     "output_type": "stream",
     "text": [
      "너무 작습니다. 다시 입력하세요.\n"
     ]
    },
    {
     "name": "stdin",
     "output_type": "stream",
     "text": [
      "이 숫자는 무엇일까요?\n",
      "예상 숫자:  8\n"
     ]
    },
    {
     "name": "stdout",
     "output_type": "stream",
     "text": [
      "너무 작습니다. 다시 입력하세요.\n"
     ]
    },
    {
     "name": "stdin",
     "output_type": "stream",
     "text": [
      "이 숫자는 무엇일까요?\n",
      "예상 숫자:  9\n"
     ]
    },
    {
     "name": "stdout",
     "output_type": "stream",
     "text": [
      "정답입니다!\n"
     ]
    },
    {
     "name": "stdin",
     "output_type": "stream",
     "text": [
      "게임을 다시 하시겠습니까? (y/n):  ㅜ\n"
     ]
    },
    {
     "name": "stdout",
     "output_type": "stream",
     "text": [
      "게임을 종료합니다. 즐거우셨나요? 또 만나요!\n"
     ]
    }
   ],
   "source": [
    "import random\n",
    "\n",
    "def play_game():\n",
    "    while True: #무한루프 시작, 사용자가 게임을 중단할 때까지 게임이 계속 실행\n",
    "        random_number = random.randint(1, 10)\n",
    "        print(\"1과 10 사이의 숫자를 하나 정했습니다.\")\n",
    "        \n",
    "        while True:\n",
    "            try:\n",
    "                guess = int(input(\"이 숫자는 무엇일까요?\\n예상 숫자: \"))\n",
    "                if guess < 1 or guess > 10:\n",
    "                    print(\"숫자가 범위를 벗어났습니다. 1과 10 사이의 숫자를 입력하세요.\")\n",
    "                    continue\n",
    "                \n",
    "                if guess < random_number:\n",
    "                    print(\"너무 작습니다. 다시 입력하세요.\")\n",
    "                elif guess > random_number:\n",
    "                    print(\"너무 큽니다. 다시 입력하세요.\")\n",
    "                else:\n",
    "                    print(\"정답입니다!\")\n",
    "                    break #내부 루프 종료\n",
    "            except ValueError:\n",
    "                print(\"유효한 숫자를 입력하세요.\")\n",
    "        \n",
    "        restart = input(\"게임을 다시 하시겠습니까? (y/n): \").lower()\n",
    "        if restart != 'y':\n",
    "            print(\"게임을 종료합니다. 즐거우셨나요? 또 만나요!\")\n",
    "            break\n",
    "\n",
    "# 게임 실행\n",
    "play_game()\n"
   ]
  },
  {
   "cell_type": "code",
   "execution_count": null,
   "id": "c39dea98-6d2d-4483-a0ca-776a7395866f",
   "metadata": {},
   "outputs": [],
   "source": []
  },
  {
   "cell_type": "code",
   "execution_count": null,
   "id": "6975dfc4-621a-44c6-af40-9fb4da9c82c2",
   "metadata": {},
   "outputs": [],
   "source": [
    "#2. 클래스의 함수 사용하기\n",
    "    #1. Person 클래스 생성자에서 사용자의 성별 입력값에 대한 유효성 검사를 추가해주세요.\n",
    "    #2. Person 클래스에 나잇대에 맞는 인사 메시지를 출력할 수 있도록 greet() 함수를 추가해주세요"
   ]
  },
  {
   "cell_type": "code",
   "execution_count": 80,
   "id": "0b0dff2d-32b5-4fe9-bd89-e291ef4f3dac",
   "metadata": {},
   "outputs": [
    {
     "name": "stdin",
     "output_type": "stream",
     "text": [
      "이름:  이형민\n",
      "나이: : 28\n",
      "성별 (male/female):  male\n"
     ]
    },
    {
     "name": "stdout",
     "output_type": "stream",
     "text": [
      "안녕하세요, 이형민님! 성인이시군요!\n"
     ]
    }
   ],
   "source": [
    "class Person():\n",
    "    def __init__(self, name, age):\n",
    "        self.name = name\n",
    "        self.age = age\n",
    "        self.gender = self.get_gender()\n",
    "\n",
    "    def get_gender(self):\n",
    "        while True:\n",
    "            gender = str(input(\"성별 (male/female): \").lower())\n",
    "            if gender in ['male', 'female']:\n",
    "                return gender\n",
    "            else:\n",
    "                print(\"잘못된 성별을 입력하셨습니다. 'male' 혹은 'female'을 입력하세요.\")\n",
    "\n",
    "    def greet(self):\n",
    "        if self.age < 20:\n",
    "            print(f\"안녕하세요, {self.name}님! 미성년자시군요!\")\n",
    "        elif 20 <= self.age <= 60:\n",
    "            print(f\"안녕하세요, {self.name}님! 성인이시군요!\")\n",
    "        else:\n",
    "            print(f\"안녕하세요, {self.name}님! 노인이시군요!\")\n",
    "\n",
    "name = str(input(\"이름: \"))\n",
    "age = int(input(\"나이: :\"))\n",
    "person = Person(name, age)\n",
    "person.greet()\n",
    "            \n",
    "            "
   ]
  },
  {
   "cell_type": "code",
   "execution_count": null,
   "id": "8ebe44d6-8ef4-4412-a2c2-314bf312f4a9",
   "metadata": {},
   "outputs": [],
   "source": []
  },
  {
   "cell_type": "code",
   "execution_count": 83,
   "id": "613711e7-2e5c-4591-a851-791f2f1cfd46",
   "metadata": {},
   "outputs": [],
   "source": [
    "#3. Python 라이브러리로 데이터 분석하기"
   ]
  },
  {
   "cell_type": "code",
   "execution_count": 85,
   "id": "920ab40c-b8c6-430c-b2cf-2a49cbf4e48a",
   "metadata": {},
   "outputs": [],
   "source": [
    "import pandas as pd"
   ]
  },
  {
   "cell_type": "code",
   "execution_count": 93,
   "id": "c81b4eb1-4dcc-4fed-a3b8-b8b508672acd",
   "metadata": {},
   "outputs": [],
   "source": [
    "#데이터 불러오기\n",
    "df1 = pd.read_csv(\"pop_kor.csv\")\n",
    "df2 = pd.read_excel(\"관서별 5대범죄 발생 및 검거.xlsx\")"
   ]
  },
  {
   "cell_type": "code",
   "execution_count": 95,
   "id": "46e13c64-37df-4220-ad68-255dc4ee9238",
   "metadata": {},
   "outputs": [
    {
     "name": "stdout",
     "output_type": "stream",
     "text": [
      "    구별     인구수\n",
      "0  강남구  581760\n",
      "1  강동구  463321\n",
      "2  강북구  334426\n",
      "3  강서구  595691\n",
      "4  관악구  529031\n"
     ]
    }
   ],
   "source": [
    "#데이터 출력1\n",
    "print(df1.head())"
   ]
  },
  {
   "cell_type": "code",
   "execution_count": 97,
   "id": "0f629bcd-a95a-4b93-baa7-99ba5fc23368",
   "metadata": {},
   "outputs": [
    {
     "name": "stdout",
     "output_type": "stream",
     "text": [
      "    관서명  소계(발생)  소계(검거)  살인(발생)  살인(검거)  강도(발생)  강도(검거)  강간(발생)  강간(검거)  \\\n",
      "0     계  126401   82680     163     156     276     257    5449    5069   \n",
      "1   중부서    2860    1716       2       2       3       2     105      65   \n",
      "2   종로서    2472    1589       3       3       6       5     115      98   \n",
      "3  남대문서    2094    1226       1       0       6       4      65      46   \n",
      "4  서대문서    4029    2579       2       2       5       4     154     124   \n",
      "\n",
      "   절도(발생)  절도(검거)  폭력(발생)  폭력(검거)  \n",
      "0   55307   21842   65206   55356  \n",
      "1    1395     477    1355    1170  \n",
      "2    1070     413    1278    1070  \n",
      "3    1153     382     869     794  \n",
      "4    1812     738    2056    1711  \n"
     ]
    }
   ],
   "source": [
    "#데이터 출력2\n",
    "print(df2.head())"
   ]
  },
  {
   "cell_type": "code",
   "execution_count": null,
   "id": "d077cd81-4d76-49a3-bfaf-29aeef350d18",
   "metadata": {},
   "outputs": [],
   "source": []
  }
 ],
 "metadata": {
  "kernelspec": {
   "display_name": "Python 3 (ipykernel)",
   "language": "python",
   "name": "python3"
  },
  "language_info": {
   "codemirror_mode": {
    "name": "ipython",
    "version": 3
   },
   "file_extension": ".py",
   "mimetype": "text/x-python",
   "name": "python",
   "nbconvert_exporter": "python",
   "pygments_lexer": "ipython3",
   "version": "3.12.4"
  }
 },
 "nbformat": 4,
 "nbformat_minor": 5
}
