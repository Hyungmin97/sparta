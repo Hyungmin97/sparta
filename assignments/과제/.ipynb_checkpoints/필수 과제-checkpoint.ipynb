{
 "cells": [
  {
   "cell_type": "code",
   "execution_count": 1,
   "id": "f6d752bc-cf0f-45fd-871e-c1e3670e7772",
   "metadata": {},
   "outputs": [],
   "source": [
    "#1. 숫자 맞추기 게임"
   ]
  },
  {
   "cell_type": "code",
   "execution_count": 32,
   "id": "a466f564-544f-419f-94e0-e4fe64955ae0",
   "metadata": {},
   "outputs": [
    {
     "name": "stdin",
     "output_type": "stream",
     "text": [
      "1~10 사이의 숫자를 입력하세요 1\n"
     ]
    },
    {
     "name": "stdout",
     "output_type": "stream",
     "text": [
      "숫자가 너무 작습니다. 입력 숫자: 1\n"
     ]
    },
    {
     "name": "stdin",
     "output_type": "stream",
     "text": [
      "1~10 사이의 숫자를 입력하세요 2\n"
     ]
    },
    {
     "name": "stdout",
     "output_type": "stream",
     "text": [
      "숫자가 너무 작습니다. 입력 숫자: 2\n"
     ]
    },
    {
     "name": "stdin",
     "output_type": "stream",
     "text": [
      "1~10 사이의 숫자를 입력하세요 9\n"
     ]
    },
    {
     "name": "stdout",
     "output_type": "stream",
     "text": [
      "숫자가 너무 큽니다. 입력 숫자: 9\n"
     ]
    },
    {
     "name": "stdin",
     "output_type": "stream",
     "text": [
      "1~10 사이의 숫자를 입력하세요 8\n"
     ]
    },
    {
     "name": "stdout",
     "output_type": "stream",
     "text": [
      "숫자가 너무 큽니다. 입력 숫자: 8\n"
     ]
    },
    {
     "name": "stdin",
     "output_type": "stream",
     "text": [
      "1~10 사이의 숫자를 입력하세요 7\n"
     ]
    },
    {
     "name": "stdout",
     "output_type": "stream",
     "text": [
      "숫자가 너무 큽니다. 입력 숫자: 7\n"
     ]
    },
    {
     "name": "stdin",
     "output_type": "stream",
     "text": [
      "1~10 사이의 숫자를 입력하세요 6\n"
     ]
    },
    {
     "name": "stdout",
     "output_type": "stream",
     "text": [
      "숫자가 너무 큽니다. 입력 숫자: 6\n"
     ]
    },
    {
     "name": "stdin",
     "output_type": "stream",
     "text": [
      "1~10 사이의 숫자를 입력하세요 5\n"
     ]
    },
    {
     "name": "stdout",
     "output_type": "stream",
     "text": [
      "정답입니다. 랜덤 숫자: 5, 입력 숫자: 5\n"
     ]
    }
   ],
   "source": [
    "import random\n",
    "\n",
    "#1부터 10 사이의 랜덤 숫자 생성\n",
    "random_number = random.randint(1,10)\n",
    "#랜덤 숫자 출력 확인\n",
    "#print(random_number)\n",
    "\n",
    "#반복문 생성\n",
    "while True:\n",
    "    #플레이어 숫자 입력\n",
    "    player_input = int(input(\"1~10 사이의 숫자를 입력하세요\"))\n",
    "    #조건문 생성\n",
    "    if random_number == player_input:\n",
    "        print(f\"정답입니다. 랜덤 숫자: {random_number}, 입력 숫자: {player_input}\")\n",
    "        break\n",
    "    elif random_number > player_input:\n",
    "        print(f\"숫자가 너무 작습니다. 입력 숫자: {player_input}\")\n",
    "    else:\n",
    "        print(f\"숫자가 너무 큽니다. 입력 숫자: {player_input}\")"
   ]
  },
  {
   "cell_type": "code",
   "execution_count": null,
   "id": "0d96c1ec-ab0b-43fb-8f94-6a0f5175684e",
   "metadata": {},
   "outputs": [],
   "source": []
  },
  {
   "cell_type": "code",
   "execution_count": 35,
   "id": "24653090-b72a-4652-83cd-60465969bb65",
   "metadata": {},
   "outputs": [],
   "source": [
    "#2. 클래스와 함수 사용하기\n",
    "# 이름, 성별, 나이를 입력받고, 이를 출력하는 프로그램을 작성하시오."
   ]
  },
  {
   "cell_type": "code",
   "execution_count": 51,
   "id": "0a797256-e9eb-443e-a874-d1e6ffd7c324",
   "metadata": {},
   "outputs": [],
   "source": [
    "#클래스 정의\n",
    "class Person:\n",
    "    def __init__(self, name, gender, age):\n",
    "        name = self.name\n",
    "        gender = self.gender\n",
    "        age = self.age\n",
    "    def display():\n",
    "        print(f\"이름: {name}, 성별: {gender}\")\n",
    "        print(f\"나이: {age}\")\n",
    "\n",
    "def display(name, gender, age):\n",
    "    name = str(input(\"이름을 입력하세요: \"))\n",
    "    gender = str(input(\"성별을 입력하세요(male/female): \"))\n",
    "    age = int(input(\"나이를 입력하세요: \"))\n",
    "\n",
    "\n"
   ]
  },
  {
   "cell_type": "code",
   "execution_count": null,
   "id": "8172307e-ea4c-4433-9607-9a21b7bc1368",
   "metadata": {},
   "outputs": [],
   "source": []
  }
 ],
 "metadata": {
  "kernelspec": {
   "display_name": "Python 3 (ipykernel)",
   "language": "python",
   "name": "python3"
  },
  "language_info": {
   "codemirror_mode": {
    "name": "ipython",
    "version": 3
   },
   "file_extension": ".py",
   "mimetype": "text/x-python",
   "name": "python",
   "nbconvert_exporter": "python",
   "pygments_lexer": "ipython3",
   "version": "3.12.4"
  }
 },
 "nbformat": 4,
 "nbformat_minor": 5
}
